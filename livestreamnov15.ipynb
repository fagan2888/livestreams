{
  "nbformat": 4,
  "nbformat_minor": 0,
  "metadata": {
    "colab": {
      "name": "livestreamnov15.ipynb",
      "provenance": [],
      "include_colab_link": true
    },
    "kernelspec": {
      "name": "python3",
      "display_name": "Python 3"
    },
    "accelerator": "GPU"
  },
  "cells": [
    {
      "cell_type": "markdown",
      "metadata": {
        "id": "view-in-github",
        "colab_type": "text"
      },
      "source": [
        "<a href=\"https://colab.research.google.com/github/paiml/livestreams/blob/master/livestreamnov15.ipynb\" target=\"_parent\"><img src=\"https://colab.research.google.com/assets/colab-badge.svg\" alt=\"Open In Colab\"/></a>"
      ]
    },
    {
      "cell_type": "code",
      "metadata": {
        "id": "LcQ9WeWncxxZ",
        "colab_type": "code",
        "colab": {
          "base_uri": "https://localhost:8080/",
          "height": 35
        },
        "outputId": "b6ae60ef-765a-41f3-aeaa-b84ea7871c36"
      },
      "source": [
        "print(\"hello\")"
      ],
      "execution_count": 1,
      "outputs": [
        {
          "output_type": "stream",
          "text": [
            "hello\n"
          ],
          "name": "stdout"
        }
      ]
    },
    {
      "cell_type": "code",
      "metadata": {
        "id": "rLvcW57bc92k",
        "colab_type": "code",
        "colab": {}
      },
      "source": [
        "hello = \"this is my phrase\""
      ],
      "execution_count": 0,
      "outputs": []
    },
    {
      "cell_type": "code",
      "metadata": {
        "id": "8HOiaNgNdLos",
        "colab_type": "code",
        "colab": {
          "base_uri": "https://localhost:8080/",
          "height": 35
        },
        "outputId": "dfe41dd3-f9ae-477e-bb2e-86dfc573622e"
      },
      "source": [
        "hello"
      ],
      "execution_count": 3,
      "outputs": [
        {
          "output_type": "execute_result",
          "data": {
            "text/plain": [
              "'this is my phrase'"
            ]
          },
          "metadata": {
            "tags": []
          },
          "execution_count": 3
        }
      ]
    },
    {
      "cell_type": "code",
      "metadata": {
        "id": "SpkYZxaodQKz",
        "colab_type": "code",
        "colab": {
          "base_uri": "https://localhost:8080/",
          "height": 35
        },
        "outputId": "e0f3e292-6766-440c-a310-efa84047cfdf"
      },
      "source": [
        "print(f\"This is something I wrote: {hello}\")"
      ],
      "execution_count": 4,
      "outputs": [
        {
          "output_type": "stream",
          "text": [
            "This is something I wrote: this is my phrase\n"
          ],
          "name": "stdout"
        }
      ]
    },
    {
      "cell_type": "code",
      "metadata": {
        "id": "C2p-NndYdckl",
        "colab_type": "code",
        "colab": {
          "base_uri": "https://localhost:8080/",
          "height": 104
        },
        "outputId": "a3fa01fb-8f70-401b-f253-382f36bd390b"
      },
      "source": [
        "for i in range(5):\n",
        "    print(f\"This is something I wrote: {hello}\")"
      ],
      "execution_count": 5,
      "outputs": [
        {
          "output_type": "stream",
          "text": [
            "This is something I wrote: this is my phrase\n",
            "This is something I wrote: this is my phrase\n",
            "This is something I wrote: this is my phrase\n",
            "This is something I wrote: this is my phrase\n",
            "This is something I wrote: this is my phrase\n"
          ],
          "name": "stdout"
        }
      ]
    },
    {
      "cell_type": "code",
      "metadata": {
        "id": "SzBuXkqfdrnn",
        "colab_type": "code",
        "colab": {
          "base_uri": "https://localhost:8080/",
          "height": 191
        },
        "outputId": "5c2db56b-6df2-4e6b-efde-f74dbc7ee575"
      },
      "source": [
        "for i in range(5):\n",
        "    print(f\"This is loop # {i}\")\n",
        "    print(f\"This is something I wrote: {hello}\")"
      ],
      "execution_count": 6,
      "outputs": [
        {
          "output_type": "stream",
          "text": [
            "This is loop # 0\n",
            "This is something I wrote: this is my phrase\n",
            "This is loop # 1\n",
            "This is something I wrote: this is my phrase\n",
            "This is loop # 2\n",
            "This is something I wrote: this is my phrase\n",
            "This is loop # 3\n",
            "This is something I wrote: this is my phrase\n",
            "This is loop # 4\n",
            "This is something I wrote: this is my phrase\n"
          ],
          "name": "stdout"
        }
      ]
    },
    {
      "cell_type": "code",
      "metadata": {
        "id": "wcbMukV7d4tv",
        "colab_type": "code",
        "colab": {
          "base_uri": "https://localhost:8080/",
          "height": 35
        },
        "outputId": "493f5007-6f97-4faa-a088-af6c37408ee7"
      },
      "source": [
        "5+1"
      ],
      "execution_count": 7,
      "outputs": [
        {
          "output_type": "execute_result",
          "data": {
            "text/plain": [
              "6"
            ]
          },
          "metadata": {
            "tags": []
          },
          "execution_count": 7
        }
      ]
    },
    {
      "cell_type": "code",
      "metadata": {
        "id": "X4OR-ogGeAsB",
        "colab_type": "code",
        "colab": {}
      },
      "source": [
        "number = 10\n"
      ],
      "execution_count": 0,
      "outputs": []
    },
    {
      "cell_type": "code",
      "metadata": {
        "id": "j65kPn_ZeFMh",
        "colab_type": "code",
        "colab": {
          "base_uri": "https://localhost:8080/",
          "height": 35
        },
        "outputId": "123aae8b-683c-474f-d900-3b462781835d"
      },
      "source": [
        "number + 5"
      ],
      "execution_count": 9,
      "outputs": [
        {
          "output_type": "execute_result",
          "data": {
            "text/plain": [
              "15"
            ]
          },
          "metadata": {
            "tags": []
          },
          "execution_count": 9
        }
      ]
    },
    {
      "cell_type": "code",
      "metadata": {
        "id": "BlDCxqZieH3J",
        "colab_type": "code",
        "colab": {
          "base_uri": "https://localhost:8080/",
          "height": 191
        },
        "outputId": "f0c12f6d-dfd6-44b4-f1cd-d9f589e2fcaf"
      },
      "source": [
        "for i in range(5):\n",
        "    print(i)\n",
        "    number += i\n",
        "    print(number)"
      ],
      "execution_count": 11,
      "outputs": [
        {
          "output_type": "stream",
          "text": [
            "0\n",
            "10\n",
            "1\n",
            "11\n",
            "2\n",
            "13\n",
            "3\n",
            "16\n",
            "4\n",
            "20\n"
          ],
          "name": "stdout"
        }
      ]
    },
    {
      "cell_type": "code",
      "metadata": {
        "id": "n-M6ndfWeak-",
        "colab_type": "code",
        "colab": {}
      },
      "source": [
        "def hellothere():\n",
        "    print(\"This is a function\")"
      ],
      "execution_count": 0,
      "outputs": []
    },
    {
      "cell_type": "code",
      "metadata": {
        "id": "oEYxtxjTeybl",
        "colab_type": "code",
        "colab": {
          "base_uri": "https://localhost:8080/",
          "height": 35
        },
        "outputId": "3e0f42dd-029c-4ef5-9374-0bb3bf0efefc"
      },
      "source": [
        "hellothere()"
      ],
      "execution_count": 13,
      "outputs": [
        {
          "output_type": "stream",
          "text": [
            "This is a function\n"
          ],
          "name": "stdout"
        }
      ]
    },
    {
      "cell_type": "code",
      "metadata": {
        "id": "tKz9yGzce1i2",
        "colab_type": "code",
        "colab": {
          "base_uri": "https://localhost:8080/",
          "height": 104
        },
        "outputId": "5513a0a6-04f8-49f8-af2c-f7bf4505dad4"
      },
      "source": [
        "for i in range(5):\n",
        "    hellothere()"
      ],
      "execution_count": 14,
      "outputs": [
        {
          "output_type": "stream",
          "text": [
            "This is a function\n",
            "This is a function\n",
            "This is a function\n",
            "This is a function\n",
            "This is a function\n"
          ],
          "name": "stdout"
        }
      ]
    },
    {
      "cell_type": "code",
      "metadata": {
        "id": "vxh4sSCse54R",
        "colab_type": "code",
        "colab": {}
      },
      "source": [
        "def hello2(x):\n",
        "    print(f\"This was given to me: {x}\")"
      ],
      "execution_count": 0,
      "outputs": []
    },
    {
      "cell_type": "code",
      "metadata": {
        "id": "2bxPpcjbfCDH",
        "colab_type": "code",
        "colab": {
          "base_uri": "https://localhost:8080/",
          "height": 35
        },
        "outputId": "1121ba5a-5193-43d1-9f3b-92ca380b3f4a"
      },
      "source": [
        "hello2(4)"
      ],
      "execution_count": 16,
      "outputs": [
        {
          "output_type": "stream",
          "text": [
            "This was given to me: 4\n"
          ],
          "name": "stdout"
        }
      ]
    },
    {
      "cell_type": "code",
      "metadata": {
        "id": "MOv6OafqfERP",
        "colab_type": "code",
        "colab": {
          "base_uri": "https://localhost:8080/",
          "height": 104
        },
        "outputId": "488e68ef-a3a4-4f71-9577-b0645a5d565c"
      },
      "source": [
        "for i in range(5):\n",
        "    hello2(i)"
      ],
      "execution_count": 17,
      "outputs": [
        {
          "output_type": "stream",
          "text": [
            "This was given to me: 0\n",
            "This was given to me: 1\n",
            "This was given to me: 2\n",
            "This was given to me: 3\n",
            "This was given to me: 4\n"
          ],
          "name": "stdout"
        }
      ]
    },
    {
      "cell_type": "code",
      "metadata": {
        "id": "TnrfXUPefNeA",
        "colab_type": "code",
        "colab": {}
      },
      "source": [
        ""
      ],
      "execution_count": 0,
      "outputs": []
    }
  ]
}